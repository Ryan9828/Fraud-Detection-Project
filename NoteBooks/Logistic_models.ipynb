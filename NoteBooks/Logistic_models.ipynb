{
 "cells": [
  {
   "cell_type": "markdown",
   "id": "c81d8e25-8652-48a0-8a6d-b5e9bc07f344",
   "metadata": {},
   "source": [
    "# Logistic modeling"
   ]
  },
  {
   "cell_type": "markdown",
   "id": "c13802c7-9e82-4ace-bfec-3a403bf1da8e",
   "metadata": {},
   "source": [
    "The goal of this modeling phase is to create a baseline model to compare more complex archetectures against. Furthermore due to the size of the dataset testing new features on more complex models will be time consuming, as such testing their value on a simplier model will speed up the modeling process.\n",
    "\n",
    "Goals: \n",
    "- Create a base line model\n",
    "- Create and test engineered features"
   ]
  },
  {
   "cell_type": "markdown",
   "id": "d39afcd2-a1f9-4a1b-84f3-96283f75a986",
   "metadata": {},
   "source": [
    "Data Preperation"
   ]
  },
  {
   "cell_type": "code",
   "execution_count": 1,
   "id": "9a7f3753-59e5-4144-a6ef-2d067548a855",
   "metadata": {},
   "outputs": [],
   "source": [
    "from sklearn.pipeline import Pipeline\n",
    "from sklearn.compose import ColumnTransformer\n",
    "from sklearn.preprocessing import StandardScaler\n",
    "from sklearn.linear_model import LogisticRegression\n",
    "from sklearn.preprocessing import OneHotEncoder\n",
    "from sklearn.metrics import confusion_matrix, classification_report, precision_score, recall_score"
   ]
  },
  {
   "cell_type": "code",
   "execution_count": 2,
   "id": "8d5e6986-3853-4556-a6d0-bc6fe2361ec7",
   "metadata": {},
   "outputs": [],
   "source": [
    "import pandas as pd\n",
    "import numpy as np\n",
    "\n",
    "# Combine both datasets to allow for my own train/test split\n",
    "train_df = pd.read_csv('fraudTrain.csv')\n",
    "test_df = pd.read_csv('fraudTest.csv')\n",
    "\n",
    "df = pd.concat([train_df,test_df], ignore_index=True)\n"
   ]
  },
  {
   "cell_type": "markdown",
   "id": "f630ecad-936b-4474-af1b-eb8198a95677",
   "metadata": {},
   "source": [
    "Basic data checks"
   ]
  },
  {
   "cell_type": "code",
   "execution_count": 3,
   "id": "bc673fa0-a6cc-42e4-b284-e93330eb4716",
   "metadata": {},
   "outputs": [
    {
     "name": "stdout",
     "output_type": "stream",
     "text": [
      "Index(['Unnamed: 0', 'trans_date_trans_time', 'cc_num', 'merchant', 'category',\n",
      "       'amt', 'first', 'last', 'gender', 'street', 'city', 'state', 'zip',\n",
      "       'lat', 'long', 'city_pop', 'job', 'dob', 'trans_num', 'unix_time',\n",
      "       'merch_lat', 'merch_long', 'is_fraud'],\n",
      "      dtype='object')\n",
      "Unnamed: 0                 int64\n",
      "trans_date_trans_time     object\n",
      "cc_num                     int64\n",
      "merchant                  object\n",
      "category                  object\n",
      "amt                      float64\n",
      "first                     object\n",
      "last                      object\n",
      "gender                    object\n",
      "street                    object\n",
      "city                      object\n",
      "state                     object\n",
      "zip                        int64\n",
      "lat                      float64\n",
      "long                     float64\n",
      "city_pop                   int64\n",
      "job                       object\n",
      "dob                       object\n",
      "trans_num                 object\n",
      "unix_time                  int64\n",
      "merch_lat                float64\n",
      "merch_long               float64\n",
      "is_fraud                   int64\n",
      "dtype: object\n"
     ]
    }
   ],
   "source": [
    "print(df.columns)\n",
    "print(df.dtypes)"
   ]
  },
  {
   "cell_type": "code",
   "execution_count": 8,
   "id": "a430df2d-7db4-4bbe-9c55-1aabf9dafc25",
   "metadata": {},
   "outputs": [],
   "source": [
    "# From earlier analysis we know that DE has a 100% fraud rate as such we will drop it from the dataset\n",
    "df.drop(df[df['state'] == 'DE'].index, inplace=True)\n"
   ]
  },
  {
   "cell_type": "code",
   "execution_count": 9,
   "id": "57f358b7-7960-4b61-8686-7c23102dec3d",
   "metadata": {},
   "outputs": [
    {
     "name": "stdout",
     "output_type": "stream",
     "text": [
      "693\n",
      "50\n"
     ]
    }
   ],
   "source": [
    "print(df['merchant'].nunique())\n",
    "print(df['state'].nunique())"
   ]
  },
  {
   "cell_type": "markdown",
   "id": "1810ecfb-fc92-4547-ba14-5c8c486e824c",
   "metadata": {},
   "source": [
    "Convert date to datetime objects"
   ]
  },
  {
   "cell_type": "code",
   "execution_count": 10,
   "id": "4f9c8ed2-391d-4aaf-bfc0-4a96ac3ee00a",
   "metadata": {},
   "outputs": [],
   "source": [
    "df['trans_date_trans_time'] = pd.to_datetime(df['trans_date_trans_time'])\n",
    "df['trans_hour'] = df['trans_date_trans_time'].dt.hour\n",
    "# Extract date (if you want to split/aggregate by day)\n",
    "df['trans_date'] = df['trans_date_trans_time'].dt.date\n"
   ]
  },
  {
   "cell_type": "markdown",
   "id": "23fbf5c7-63ed-470c-a269-c1c26037dd33",
   "metadata": {},
   "source": [
    "From analysis we identified a common pattern in fraudulent transations was a small test payment was quickly followed by a larger transaction. As such 'time_since_last' the time since the last transaction and 'last_amt' the previous transaction amount are created "
   ]
  },
  {
   "cell_type": "code",
   "execution_count": 11,
   "id": "35dc2a56-8276-449b-9ba3-4d154fdc4860",
   "metadata": {},
   "outputs": [],
   "source": [
    "df = df.sort_values(by=['cc_num', 'trans_date_trans_time']).reset_index(drop=True)\n",
    "\n",
    "# Compute time difference (in seconds) per card\n",
    "df['time_since_last'] = df.groupby('cc_num')['unix_time'].diff()\n",
    "# Fill NaN (first transaction per card has no \"last\")\n",
    "df['time_since_last'] = df['time_since_last'].fillna(-1)\n",
    "\n",
    "df['last_amt'] = df.groupby('cc_num')['amt'].shift(1)\n",
    "# Fill NaN (for the first transaction of each card, where no \"last\" exists)\n",
    "df['last_amt'] = df['last_amt'].fillna(0)"
   ]
  },
  {
   "cell_type": "markdown",
   "id": "e6ea8f6c-7845-43fc-b42c-ce97ba9806b7",
   "metadata": {},
   "source": [
    "Sorting data and dropping irrelevant columns - note these features seemed insignificant in analysis and due to the size of the dataset were dropped"
   ]
  },
  {
   "cell_type": "code",
   "execution_count": 12,
   "id": "adfa5a90-3ba4-4474-a6d3-59947cae1403",
   "metadata": {},
   "outputs": [],
   "source": [
    "df = df.sort_values(by=['trans_date_trans_time']).reset_index(drop=True)\n",
    "modeling_df1 = df.drop([\n",
    "    'Unnamed: 0', 'merchant', 'first', 'last', 'street', 'city', 'state', 'zip', \n",
    "    'lat', 'long', 'city_pop', 'job', 'dob', 'gender',\n",
    "    'trans_num', 'unix_time', 'merch_lat', 'merch_long', 'time_since_last', 'last_amt'\n",
    "], axis=1)"
   ]
  },
  {
   "cell_type": "code",
   "execution_count": 13,
   "id": "5d1c2b73-dfa2-4a80-82d1-44eeb056ba27",
   "metadata": {},
   "outputs": [
    {
     "data": {
      "text/plain": [
       "trans_date_trans_time    datetime64[ns]\n",
       "cc_num                            int64\n",
       "category                         object\n",
       "amt                             float64\n",
       "is_fraud                          int64\n",
       "trans_hour                        int32\n",
       "trans_date                       object\n",
       "dtype: object"
      ]
     },
     "execution_count": 13,
     "metadata": {},
     "output_type": "execute_result"
    }
   ],
   "source": [
    "modeling_df1.dtypes"
   ]
  },
  {
   "cell_type": "code",
   "execution_count": 14,
   "id": "941c3901-bfbf-4e0f-b482-3ddd91b5c8b3",
   "metadata": {},
   "outputs": [],
   "source": [
    "modeling_df1 = modeling_df1.drop(['cc_num', 'trans_date'], axis=1)"
   ]
  },
  {
   "cell_type": "markdown",
   "id": "fa779c40-cf07-444a-acb3-ceb503cb4704",
   "metadata": {},
   "source": [
    "# Baseline Linear Regression\n",
    "- Regression on variables initally hypothesised to be significant based on analysis and reaserch [amt, is_fraud, trans_hour, category], the dependent variable is_fraud is a binary feature where the value of 1 represents fraud"
   ]
  },
  {
   "cell_type": "markdown",
   "id": "c07b5ee8-57ab-40d9-be61-5c911ea8724f",
   "metadata": {},
   "source": [
    "Train/test splits"
   ]
  },
  {
   "cell_type": "code",
   "execution_count": 15,
   "id": "1ac5106b-9fc9-4724-87fe-c9f4eaf83cfd",
   "metadata": {},
   "outputs": [],
   "source": [
    "# sort data to avoid leakage\n",
    "modeling_df1 = modeling_df1.sort_values('trans_date_trans_time').reset_index(drop=True)\n",
    "\n",
    "# 2) Time-based splits\n",
    "split_idx = int(len(modeling_df1) * 0.80)\n",
    "train_df = modeling_df1.iloc[:split_idx]\n",
    "test_df  = modeling_df1.iloc[split_idx:]\n",
    "\n",
    "drop_cols = ['is_fraud', 'trans_date_trans_time', 'trans_date', 'cc_num']\n",
    "features = [col for col in modeling_df1.columns if col not in drop_cols]\n",
    "\n",
    "y_train = train_df['is_fraud']\n",
    "X_train = train_df[features]\n",
    "\n",
    "y_test = test_df['is_fraud']\n",
    "X_test = test_df[features]"
   ]
  },
  {
   "cell_type": "markdown",
   "id": "bd2254f0-760e-4e18-873e-9c99bb129a46",
   "metadata": {},
   "source": [
    "## Pipeline + model"
   ]
  },
  {
   "cell_type": "code",
   "execution_count": 16,
   "id": "caae6d6a-e19a-47ef-bd98-39c57b5a59d4",
   "metadata": {},
   "outputs": [],
   "source": [
    "num_transformer = Pipeline([\n",
    "    ('scaler', StandardScaler())\n",
    "])\n",
    "\n",
    "cat_transformer = Pipeline([\n",
    "    ('encoder', OneHotEncoder(drop='first'))\n",
    "])\n",
    "\n",
    "cat_features = ['category']\n",
    "num_features = ['amt', 'trans_hour']\n",
    "\n",
    "preprocessor = ColumnTransformer([\n",
    "    ('num', num_transformer, num_features),\n",
    "    ('cat', cat_transformer, cat_features)\n",
    "])\n",
    "\n",
    "log_reg = LogisticRegression(\n",
    "    class_weight=\"balanced\",  \n",
    "    max_iter=1000,\n",
    "    solver=\"lbfgs\"\n",
    ")\n",
    "\n",
    "pipeline = Pipeline([\n",
    "    ('preprocess', preprocessor),\n",
    "    ('logreg', log_reg)\n",
    "])\n"
   ]
  },
  {
   "cell_type": "code",
   "execution_count": 17,
   "id": "5c5a8ed5-4c43-4e0f-adbb-94b283e314f8",
   "metadata": {},
   "outputs": [],
   "source": [
    "# Fit data\n",
    "pipeline.fit(X_train, y_train)\n",
    "y_pred = pipeline.predict(X_test)"
   ]
  },
  {
   "cell_type": "code",
   "execution_count": 18,
   "id": "6d905676-636a-4459-aab6-4ca64312a379",
   "metadata": {},
   "outputs": [
    {
     "name": "stdout",
     "output_type": "stream",
     "text": [
      "[[326126  43002]\n",
      " [   328   1021]]\n",
      "\n",
      "Precision: 0.0232\n",
      "Recall:    0.7569\n",
      "\n",
      "Classification Report:\n",
      "              precision    recall  f1-score   support\n",
      "\n",
      "           0     0.9990    0.8835    0.9377    369128\n",
      "           1     0.0232    0.7569    0.0450      1349\n",
      "\n",
      "    accuracy                         0.8830    370477\n",
      "   macro avg     0.5111    0.8202    0.4914    370477\n",
      "weighted avg     0.9954    0.8830    0.9345    370477\n",
      "\n"
     ]
    }
   ],
   "source": [
    "# Model Evaluation:\n",
    "\n",
    "cm = confusion_matrix(y_test, y_pred)\n",
    "print(cm)\n",
    "\n",
    "precision = precision_score(y_test, y_pred)\n",
    "recall = recall_score(y_test, y_pred)\n",
    "\n",
    "print(f\"\\nPrecision: {precision:.4f}\")\n",
    "print(f\"Recall:    {recall:.4f}\")\n",
    "\n",
    "print(\"\\nClassification Report:\")\n",
    "print(classification_report(y_test, y_pred, digits=4))"
   ]
  },
  {
   "cell_type": "markdown",
   "id": "fae2cedc-1db8-4242-b3d7-632c29a9e658",
   "metadata": {},
   "source": [
    "## Testing engineered features:\n",
    "- Next we will train a logistic regression with the engineered features, 'last_amt' the last transaction amount of that card user and, 'time_since_last', the time in seconds between transactions"
   ]
  },
  {
   "cell_type": "code",
   "execution_count": 19,
   "id": "cc83c971-e41f-48a1-ba6c-77d27029c498",
   "metadata": {},
   "outputs": [],
   "source": [
    "modeling_df2 = df.drop([\n",
    "    'Unnamed: 0', 'merchant', 'first', 'last', 'street', 'city', 'state', 'zip', \n",
    "    'lat', 'long', 'city_pop', 'job', 'dob', 'gender',\n",
    "    'trans_num', 'unix_time', 'merch_lat', 'merch_long', 'cc_num', 'trans_date'\n",
    "], axis=1)\n",
    "\n",
    "modeling_df2['is_fraud'] = modeling_df2['is_fraud'].astype(int)"
   ]
  },
  {
   "cell_type": "code",
   "execution_count": 20,
   "id": "2cb0cb82-4f74-4c2b-a9c8-51eeb0c43045",
   "metadata": {},
   "outputs": [
    {
     "data": {
      "text/plain": [
       "Index(['trans_date_trans_time', 'category', 'amt', 'is_fraud', 'trans_hour',\n",
       "       'time_since_last', 'last_amt'],\n",
       "      dtype='object')"
      ]
     },
     "execution_count": 20,
     "metadata": {},
     "output_type": "execute_result"
    }
   ],
   "source": [
    "modeling_df2.columns"
   ]
  },
  {
   "cell_type": "code",
   "execution_count": 21,
   "id": "04d2a925-b882-4da8-89f5-88301b53fefb",
   "metadata": {},
   "outputs": [],
   "source": [
    "# Split data again:\n",
    "# sort data to avoid leakage\n",
    "modeling_df2 = modeling_df2.sort_values('trans_date_trans_time').reset_index(drop=True)\n",
    "\n",
    "split_idx = int(len(modeling_df2) * 0.80)\n",
    "train_df = modeling_df2.iloc[:split_idx]\n",
    "test_df  = modeling_df2.iloc[split_idx:]\n",
    "\n",
    "\n",
    "drop_cols = ['is_fraud', 'trans_date_trans_time', 'trans_date', 'cc_num']\n",
    "features = [col for col in modeling_df2.columns if col not in drop_cols]\n",
    "\n",
    "y_train = train_df['is_fraud']\n",
    "X_train = train_df[features]\n",
    "\n",
    "y_test = test_df['is_fraud']\n",
    "X_test = test_df[features]"
   ]
  },
  {
   "cell_type": "code",
   "execution_count": 22,
   "id": "efeb6abb-7139-4248-af4e-12971e0b94f8",
   "metadata": {},
   "outputs": [],
   "source": [
    "cat_features = ['category']\n",
    "num_features = ['amt', 'trans_hour', 'time_since_last', 'last_amt']\n",
    "\n",
    "# Reuse same num and cat transformers as the first model\n",
    "preprocessor = ColumnTransformer([\n",
    "    ('num', num_transformer, num_features),\n",
    "    ('cat', cat_transformer, cat_features)\n",
    "])\n",
    "\n",
    "log_reg = LogisticRegression(\n",
    "    class_weight=\"balanced\",  \n",
    "    max_iter=1000,\n",
    "    solver=\"lbfgs\"\n",
    ")\n",
    "\n",
    "pipeline = Pipeline([\n",
    "    ('preprocess', preprocessor),\n",
    "    ('logreg', log_reg)\n",
    "])"
   ]
  },
  {
   "cell_type": "code",
   "execution_count": 23,
   "id": "087bf8e2-1364-4f5d-85d8-ede07b9591b9",
   "metadata": {},
   "outputs": [
    {
     "name": "stdout",
     "output_type": "stream",
     "text": [
      "Confusion Matrix:\n",
      "[[351174  17954]\n",
      " [   183   1166]]\n",
      "\n",
      "Precision: 0.0610\n",
      "Recall:    0.8643\n",
      "\n",
      "Classification Report:\n",
      "              precision    recall  f1-score   support\n",
      "\n",
      "           0     0.9995    0.9514    0.9748    369128\n",
      "           1     0.0610    0.8643    0.1139      1349\n",
      "\n",
      "    accuracy                         0.9510    370477\n",
      "   macro avg     0.5302    0.9079    0.5444    370477\n",
      "weighted avg     0.9961    0.9510    0.9717    370477\n",
      "\n"
     ]
    }
   ],
   "source": [
    "# Fit model and evaluate\n",
    "pipeline.fit(X_train, y_train)\n",
    "y_pred = pipeline.predict(X_test)\n",
    "\n",
    "cm = confusion_matrix(y_test, y_pred)\n",
    "print(\"Confusion Matrix:\")\n",
    "print(cm)\n",
    "\n",
    "precision = precision_score(y_test, y_pred)\n",
    "recall = recall_score(y_test, y_pred)\n",
    "\n",
    "print(f\"\\nPrecision: {precision:.4f}\")\n",
    "print(f\"Recall:    {recall:.4f}\")\n",
    "\n",
    "\n",
    "print(\"\\nClassification Report:\")\n",
    "print(classification_report(y_test, y_pred, digits=4))"
   ]
  },
  {
   "cell_type": "markdown",
   "id": "deac5cb8-edee-451e-a532-1b3e00a0f309",
   "metadata": {},
   "source": [
    "Here we see a significant improvement in model peformance with our engineered features"
   ]
  },
  {
   "cell_type": "code",
   "execution_count": 27,
   "id": "797a105d-fc22-4b8e-8a8d-c6698fba977f",
   "metadata": {},
   "outputs": [],
   "source": [
    "corr = df[num_features].corr()"
   ]
  },
  {
   "cell_type": "code",
   "execution_count": 31,
   "id": "b4b46a6e-b4ee-42d8-8ba5-b16c62722a60",
   "metadata": {},
   "outputs": [
    {
     "data": {
      "image/png": "[encoded data removed]",
      "text/plain": [
       "<Figure size 800x600 with 2 Axes>"
      ]
     },
     "metadata": {},
     "output_type": "display_data"
    }
   ],
   "source": [
    "import seaborn as sns\n",
    "import matplotlib.pyplot as plt\n",
    "\n",
    "# Create the heatmap\n",
    "plt.figure(figsize=(8, 6))\n",
    "sns.heatmap(\n",
    "    corr,\n",
    "    annot=True,          # show numbers\n",
    "    fmt=\".2f\",           # two decimal places\n",
    "    cmap=\"coolwarm\",     # color scale (red = negative, blue = positive)\n",
    "    square=True,         # make each cell square-shaped\n",
    "    cbar=True,           # show color bar\n",
    "    linewidths=0.5,      # thin grid lines\n",
    "    annot_kws={\"size\": 10, \"weight\": \"bold\"}  # style for numbers\n",
    ")\n",
    "\n",
    "plt.title(\"Correlation Heatmap for Numeric Features\", fontsize=14, weight=\"bold\")\n",
    "plt.xticks(rotation=45, ha='right')  # rotate x labels for readability\n",
    "plt.yticks(rotation=0)\n",
    "plt.tight_layout()\n",
    "plt.show()"
   ]
  },
  {
   "cell_type": "markdown",
   "id": "0390d44a-127f-4edc-8290-266d41b26571",
   "metadata": {},
   "source": [
    "# LASSO \n",
    "- To do further tests on the importance of other features precent in the data set a LASSO regression will be run "
   ]
  },
  {
   "cell_type": "code",
   "execution_count": 20,
   "id": "41be8d5e-d3d9-43de-8fe6-e521960ddd72",
   "metadata": {},
   "outputs": [],
   "source": [
    "from sklearn.linear_model import LogisticRegression"
   ]
  },
  {
   "cell_type": "code",
   "execution_count": 21,
   "id": "8bd7cad2-3a3a-460a-a52b-86c3bf34ce85",
   "metadata": {},
   "outputs": [
    {
     "data": {
      "text/plain": [
       "Index(['Unnamed: 0', 'trans_date_trans_time', 'cc_num', 'merchant', 'category',\n",
       "       'amt', 'first', 'last', 'gender', 'street', 'city', 'state', 'zip',\n",
       "       'lat', 'long', 'city_pop', 'job', 'dob', 'trans_num', 'unix_time',\n",
       "       'merch_lat', 'merch_long', 'is_fraud', 'trans_hour', 'trans_date',\n",
       "       'time_since_last', 'last_amt'],\n",
       "      dtype='object')"
      ]
     },
     "execution_count": 21,
     "metadata": {},
     "output_type": "execute_result"
    }
   ],
   "source": [
    "df.columns"
   ]
  },
  {
   "cell_type": "code",
   "execution_count": 22,
   "id": "b9317907-1c54-4843-ae0d-7d0a375e0c3e",
   "metadata": {},
   "outputs": [],
   "source": [
    "LASSO_df = df.drop(['Unnamed: 0', 'first', 'last', 'street', 'city', 'zip', 'trans_num','trans_date', 'cc_num', 'unix_time'], axis=1)"
   ]
  },
  {
   "cell_type": "code",
   "execution_count": 23,
   "id": "4ef109bc-d949-4bf6-8917-4e029531ab2c",
   "metadata": {},
   "outputs": [],
   "source": [
    "# Convert dob to age\n",
    "# Ensure dob is datetime\n",
    "LASSO_df['dob'] = pd.to_datetime(LASSO_df['dob'], errors='coerce')\n",
    "\n",
    "# Compute age in years (using transaction time as reference)\n",
    "# This ensures the age is measured *at the time of transaction*, not today\n",
    "LASSO_df['age'] = (\n",
    "    (LASSO_df['trans_date_trans_time'] - LASSO_df['dob'])\n",
    "    .dt.days / 365.25\n",
    ").round(1)\n",
    "\n",
    "LASSO_df = LASSO_df.drop(['dob'], axis=1)"
   ]
  },
  {
   "cell_type": "code",
   "execution_count": 24,
   "id": "71f14908-9b1e-4e62-abcf-0398edb46f03",
   "metadata": {},
   "outputs": [
    {
     "data": {
      "text/plain": [
       "trans_date_trans_time    datetime64[ns]\n",
       "merchant                         object\n",
       "category                         object\n",
       "amt                             float64\n",
       "gender                           object\n",
       "state                            object\n",
       "lat                             float64\n",
       "long                            float64\n",
       "city_pop                          int64\n",
       "job                              object\n",
       "merch_lat                       float64\n",
       "merch_long                      float64\n",
       "is_fraud                          int64\n",
       "trans_hour                        int32\n",
       "time_since_last                 float64\n",
       "last_amt                        float64\n",
       "age                             float64\n",
       "dtype: object"
      ]
     },
     "execution_count": 24,
     "metadata": {},
     "output_type": "execute_result"
    }
   ],
   "source": [
    "LASSO_df.dtypes"
   ]
  },
  {
   "cell_type": "code",
   "execution_count": 25,
   "id": "296f3689-fa49-4bd6-b0ae-bdaee947486d",
   "metadata": {},
   "outputs": [
    {
     "data": {
      "text/plain": [
       "Index(['trans_date_trans_time', 'merchant', 'category', 'amt', 'gender',\n",
       "       'state', 'lat', 'long', 'city_pop', 'job', 'merch_lat', 'merch_long',\n",
       "       'is_fraud', 'trans_hour', 'time_since_last', 'last_amt', 'age'],\n",
       "      dtype='object')"
      ]
     },
     "execution_count": 25,
     "metadata": {},
     "output_type": "execute_result"
    }
   ],
   "source": [
    "LASSO_df.columns"
   ]
  },
  {
   "cell_type": "code",
   "execution_count": 26,
   "id": "c63d6529-22be-4b20-b7dd-ce8febab73c2",
   "metadata": {},
   "outputs": [],
   "source": [
    "LASSO_df = LASSO_df.drop(['job'],axis=1)"
   ]
  },
  {
   "cell_type": "code",
   "execution_count": 27,
   "id": "ff8baed1-8e19-499b-a76d-83f974085237",
   "metadata": {},
   "outputs": [],
   "source": [
    "cat_cols = ['merchant', 'category', 'gender', 'state']\n",
    "num_cols = ['amt', 'lat', 'long', 'city_pop', 'merch_lat', 'merch_long',\n",
    "            'trans_hour', 'time_since_last', 'last_amt', 'age']"
   ]
  },
  {
   "cell_type": "markdown",
   "id": "2aad626f-9343-4245-b809-f3d5304a471f",
   "metadata": {},
   "source": [
    "Train/test splits"
   ]
  },
  {
   "cell_type": "code",
   "execution_count": 28,
   "id": "cd7904b0-5470-451d-8944-5a11199ed204",
   "metadata": {},
   "outputs": [],
   "source": [
    "# sort data to avoid leakage\n",
    "LASSO_df = LASSO_df.sort_values('trans_date_trans_time').reset_index(drop=True)\n",
    "\n",
    "# 2) Time-based splits\n",
    "split_idx = int(len(LASSO_df) * 0.80)\n",
    "train_df = LASSO_df.iloc[:split_idx]\n",
    "test_df  = LASSO_df.iloc[split_idx:]\n",
    "\n",
    "drop_cols = ['is_fraud', 'trans_date_trans_time']\n",
    "\n",
    "y_train = train_df['is_fraud']\n",
    "X_train = train_df[cat_cols + num_cols]\n",
    "\n",
    "y_test = test_df['is_fraud']\n",
    "X_test = test_df[cat_cols + num_cols]"
   ]
  },
  {
   "cell_type": "markdown",
   "id": "9c0def5b-f7b4-441c-b831-511b0c850338",
   "metadata": {},
   "source": [
    "Next we fit and transform our data using a pipeline - we will use a standard scaler for numbers and a one hot encoder for catagorical features"
   ]
  },
  {
   "cell_type": "code",
   "execution_count": 29,
   "id": "7145a4b0-f012-4a6a-a28e-4350d07ef979",
   "metadata": {},
   "outputs": [],
   "source": [
    "# Preprocessing: scale numerics + encode categoricals\n",
    "preprocessor = ColumnTransformer([\n",
    "    ('num', StandardScaler(), num_cols),\n",
    "    ('cat', OneHotEncoder(drop='first', handle_unknown='ignore'), cat_cols)\n",
    "])\n"
   ]
  },
  {
   "cell_type": "code",
   "execution_count": 30,
   "id": "2b3805d9-4ba7-415e-b361-185707e1fce0",
   "metadata": {},
   "outputs": [
    {
     "data": {
      "text/html": [
       "<style>#sk-container-id-1 {\n",
       "  /* Definition of color scheme common for light and dark mode */\n",
       "  --sklearn-color-text: #000;\n",
       "  --sklearn-color-text-muted: #666;\n",
       "  --sklearn-color-line: gray;\n",
       "  /* Definition of color scheme for unfitted estimators */\n",
       "  --sklearn-color-unfitted-level-0: #fff5e6;\n",
       "  --sklearn-color-unfitted-level-1: #f6e4d2;\n",
       "  --sklearn-color-unfitted-level-2: #ffe0b3;\n",
       "  --sklearn-color-unfitted-level-3: chocolate;\n",
       "  /* Definition of color scheme for fitted estimators */\n",
       "  --sklearn-color-fitted-level-0: #f0f8ff;\n",
       "  --sklearn-color-fitted-level-1: #d4ebff;\n",
       "  --sklearn-color-fitted-level-2: #b3dbfd;\n",
       "  --sklearn-color-fitted-level-3: cornflowerblue;\n",
       "\n",
       "  /* Specific color for light theme */\n",
       "  --sklearn-color-text-on-default-background: var(--sg-text-color, var(--theme-code-foreground, var(--jp-content-font-color1, black)));\n",
       "  --sklearn-color-background: var(--sg-background-color, var(--theme-background, var(--jp-layout-color0, white)));\n",
       "  --sklearn-color-border-box: var(--sg-text-color, var(--theme-code-foreground, var(--jp-content-font-color1, black)));\n",
       "  --sklearn-color-icon: #696969;\n",
       "\n",
       "  @media (prefers-color-scheme: dark) {\n",
       "    /* Redefinition of color scheme for dark theme */\n",
       "    --sklearn-color-text-on-default-background: var(--sg-text-color, var(--theme-code-foreground, var(--jp-content-font-color1, white)));\n",
       "    --sklearn-color-background: var(--sg-background-color, var(--theme-background, var(--jp-layout-color0, #111)));\n",
       "    --sklearn-color-border-box: var(--sg-text-color, var(--theme-code-foreground, var(--jp-content-font-color1, white)));\n",
       "    --sklearn-color-icon: #878787;\n",
       "  }\n",
       "}\n",
       "\n",
       "#sk-container-id-1 {\n",
       "  color: var(--sklearn-color-text);\n",
       "}\n",
       "\n",
       "#sk-container-id-1 pre {\n",
       "  padding: 0;\n",
       "}\n",
       "\n",
       "#sk-container-id-1 input.sk-hidden--visually {\n",
       "  border: 0;\n",
       "  clip: rect(1px 1px 1px 1px);\n",
       "  clip: rect(1px, 1px, 1px, 1px);\n",
       "  height: 1px;\n",
       "  margin: -1px;\n",
       "  overflow: hidden;\n",
       "  padding: 0;\n",
       "  position: absolute;\n",
       "  width: 1px;\n",
       "}\n",
       "\n",
       "#sk-container-id-1 div.sk-dashed-wrapped {\n",
       "  border: 1px dashed var(--sklearn-color-line);\n",
       "  margin: 0 0.4em 0.5em 0.4em;\n",
       "  box-sizing: border-box;\n",
       "  padding-bottom: 0.4em;\n",
       "  background-color: var(--sklearn-color-background);\n",
       "}\n",
       "\n",
       "#sk-container-id-1 div.sk-container {\n",
       "  /* jupyter's `normalize.less` sets `[hidden] { display: none; }`\n",
       "     but bootstrap.min.css set `[hidden] { display: none !important; }`\n",
       "     so we also need the `!important` here to be able to override the\n",
       "     default hidden behavior on the sphinx rendered scikit-learn.org.\n",
       "     See: https://github.com/scikit-learn/scikit-learn/issues/21755 */\n",
       "  display: inline-block !important;\n",
       "  position: relative;\n",
       "}\n",
       "\n",
       "#sk-container-id-1 div.sk-text-repr-fallback {\n",
       "  display: none;\n",
       "}\n",
       "\n",
       "div.sk-parallel-item,\n",
       "div.sk-serial,\n",
       "div.sk-item {\n",
       "  /* draw centered vertical line to link estimators */\n",
       "  background-image: linear-gradient(var(--sklearn-color-text-on-default-background), var(--sklearn-color-text-on-default-background));\n",
       "  background-size: 2px 100%;\n",
       "  background-repeat: no-repeat;\n",
       "  background-position: center center;\n",
       "}\n",
       "\n",
       "/* Parallel-specific style estimator block */\n",
       "\n",
       "#sk-container-id-1 div.sk-parallel-item::after {\n",
       "  content: \"\";\n",
       "  width: 100%;\n",
       "  border-bottom: 2px solid var(--sklearn-color-text-on-default-background);\n",
       "  flex-grow: 1;\n",
       "}\n",
       "\n",
       "#sk-container-id-1 div.sk-parallel {\n",
       "  display: flex;\n",
       "  align-items: stretch;\n",
       "  justify-content: center;\n",
       "  background-color: var(--sklearn-color-background);\n",
       "  position: relative;\n",
       "}\n",
       "\n",
       "#sk-container-id-1 div.sk-parallel-item {\n",
       "  display: flex;\n",
       "  flex-direction: column;\n",
       "}\n",
       "\n",
       "#sk-container-id-1 div.sk-parallel-item:first-child::after {\n",
       "  align-self: flex-end;\n",
       "  width: 50%;\n",
       "}\n",
       "\n",
       "#sk-container-id-1 div.sk-parallel-item:last-child::after {\n",
       "  align-self: flex-start;\n",
       "  width: 50%;\n",
       "}\n",
       "\n",
       "#sk-container-id-1 div.sk-parallel-item:only-child::after {\n",
       "  width: 0;\n",
       "}\n",
       "\n",
       "/* Serial-specific style estimator block */\n",
       "\n",
       "#sk-container-id-1 div.sk-serial {\n",
       "  display: flex;\n",
       "  flex-direction: column;\n",
       "  align-items: center;\n",
       "  background-color: var(--sklearn-color-background);\n",
       "  padding-right: 1em;\n",
       "  padding-left: 1em;\n",
       "}\n",
       "\n",
       "\n",
       "/* Toggleable style: style used for estimator/Pipeline/ColumnTransformer box that is\n",
       "clickable and can be expanded/collapsed.\n",
       "- Pipeline and ColumnTransformer use this feature and define the default style\n",
       "- Estimators will overwrite some part of the style using the `sk-estimator` class\n",
       "*/\n",
       "\n",
       "/* Pipeline and ColumnTransformer style (default) */\n",
       "\n",
       "#sk-container-id-1 div.sk-toggleable {\n",
       "  /* Default theme specific background. It is overwritten whether we have a\n",
       "  specific estimator or a Pipeline/ColumnTransformer */\n",
       "  background-color: var(--sklearn-color-background);\n",
       "}\n",
       "\n",
       "/* Toggleable label */\n",
       "#sk-container-id-1 label.sk-toggleable__label {\n",
       "  cursor: pointer;\n",
       "  display: flex;\n",
       "  width: 100%;\n",
       "  margin-bottom: 0;\n",
       "  padding: 0.5em;\n",
       "  box-sizing: border-box;\n",
       "  text-align: center;\n",
       "  align-items: start;\n",
       "  justify-content: space-between;\n",
       "  gap: 0.5em;\n",
       "}\n",
       "\n",
       "#sk-container-id-1 label.sk-toggleable__label .caption {\n",
       "  font-size: 0.6rem;\n",
       "  font-weight: lighter;\n",
       "  color: var(--sklearn-color-text-muted);\n",
       "}\n",
       "\n",
       "#sk-container-id-1 label.sk-toggleable__label-arrow:before {\n",
       "  /* Arrow on the left of the label */\n",
       "  content: \"▸\";\n",
       "  float: left;\n",
       "  margin-right: 0.25em;\n",
       "  color: var(--sklearn-color-icon);\n",
       "}\n",
       "\n",
       "#sk-container-id-1 label.sk-toggleable__label-arrow:hover:before {\n",
       "  color: var(--sklearn-color-text);\n",
       "}\n",
       "\n",
       "/* Toggleable content - dropdown */\n",
       "\n",
       "#sk-container-id-1 div.sk-toggleable__content {\n",
       "  max-height: 0;\n",
       "  max-width: 0;\n",
       "  overflow: hidden;\n",
       "  text-align: left;\n",
       "  /* unfitted */\n",
       "  background-color: var(--sklearn-color-unfitted-level-0);\n",
       "}\n",
       "\n",
       "#sk-container-id-1 div.sk-toggleable__content.fitted {\n",
       "  /* fitted */\n",
       "  background-color: var(--sklearn-color-fitted-level-0);\n",
       "}\n",
       "\n",
       "#sk-container-id-1 div.sk-toggleable__content pre {\n",
       "  margin: 0.2em;\n",
       "  border-radius: 0.25em;\n",
       "  color: var(--sklearn-color-text);\n",
       "  /* unfitted */\n",
       "  background-color: var(--sklearn-color-unfitted-level-0);\n",
       "}\n",
       "\n",
       "#sk-container-id-1 div.sk-toggleable__content.fitted pre {\n",
       "  /* unfitted */\n",
       "  background-color: var(--sklearn-color-fitted-level-0);\n",
       "}\n",
       "\n",
       "#sk-container-id-1 input.sk-toggleable__control:checked~div.sk-toggleable__content {\n",
       "  /* Expand drop-down */\n",
       "  max-height: 200px;\n",
       "  max-width: 100%;\n",
       "  overflow: auto;\n",
       "}\n",
       "\n",
       "#sk-container-id-1 input.sk-toggleable__control:checked~label.sk-toggleable__label-arrow:before {\n",
       "  content: \"▾\";\n",
       "}\n",
       "\n",
       "/* Pipeline/ColumnTransformer-specific style */\n",
       "\n",
       "#sk-container-id-1 div.sk-label input.sk-toggleable__control:checked~label.sk-toggleable__label {\n",
       "  color: var(--sklearn-color-text);\n",
       "  background-color: var(--sklearn-color-unfitted-level-2);\n",
       "}\n",
       "\n",
       "#sk-container-id-1 div.sk-label.fitted input.sk-toggleable__control:checked~label.sk-toggleable__label {\n",
       "  background-color: var(--sklearn-color-fitted-level-2);\n",
       "}\n",
       "\n",
       "/* Estimator-specific style */\n",
       "\n",
       "/* Colorize estimator box */\n",
       "#sk-container-id-1 div.sk-estimator input.sk-toggleable__control:checked~label.sk-toggleable__label {\n",
       "  /* unfitted */\n",
       "  background-color: var(--sklearn-color-unfitted-level-2);\n",
       "}\n",
       "\n",
       "#sk-container-id-1 div.sk-estimator.fitted input.sk-toggleable__control:checked~label.sk-toggleable__label {\n",
       "  /* fitted */\n",
       "  background-color: var(--sklearn-color-fitted-level-2);\n",
       "}\n",
       "\n",
       "#sk-container-id-1 div.sk-label label.sk-toggleable__label,\n",
       "#sk-container-id-1 div.sk-label label {\n",
       "  /* The background is the default theme color */\n",
       "  color: var(--sklearn-color-text-on-default-background);\n",
       "}\n",
       "\n",
       "/* On hover, darken the color of the background */\n",
       "#sk-container-id-1 div.sk-label:hover label.sk-toggleable__label {\n",
       "  color: var(--sklearn-color-text);\n",
       "  background-color: var(--sklearn-color-unfitted-level-2);\n",
       "}\n",
       "\n",
       "/* Label box, darken color on hover, fitted */\n",
       "#sk-container-id-1 div.sk-label.fitted:hover label.sk-toggleable__label.fitted {\n",
       "  color: var(--sklearn-color-text);\n",
       "  background-color: var(--sklearn-color-fitted-level-2);\n",
       "}\n",
       "\n",
       "/* Estimator label */\n",
       "\n",
       "#sk-container-id-1 div.sk-label label {\n",
       "  font-family: monospace;\n",
       "  font-weight: bold;\n",
       "  display: inline-block;\n",
       "  line-height: 1.2em;\n",
       "}\n",
       "\n",
       "#sk-container-id-1 div.sk-label-container {\n",
       "  text-align: center;\n",
       "}\n",
       "\n",
       "/* Estimator-specific */\n",
       "#sk-container-id-1 div.sk-estimator {\n",
       "  font-family: monospace;\n",
       "  border: 1px dotted var(--sklearn-color-border-box);\n",
       "  border-radius: 0.25em;\n",
       "  box-sizing: border-box;\n",
       "  margin-bottom: 0.5em;\n",
       "  /* unfitted */\n",
       "  background-color: var(--sklearn-color-unfitted-level-0);\n",
       "}\n",
       "\n",
       "#sk-container-id-1 div.sk-estimator.fitted {\n",
       "  /* fitted */\n",
       "  background-color: var(--sklearn-color-fitted-level-0);\n",
       "}\n",
       "\n",
       "/* on hover */\n",
       "#sk-container-id-1 div.sk-estimator:hover {\n",
       "  /* unfitted */\n",
       "  background-color: var(--sklearn-color-unfitted-level-2);\n",
       "}\n",
       "\n",
       "#sk-container-id-1 div.sk-estimator.fitted:hover {\n",
       "  /* fitted */\n",
       "  background-color: var(--sklearn-color-fitted-level-2);\n",
       "}\n",
       "\n",
       "/* Specification for estimator info (e.g. \"i\" and \"?\") */\n",
       "\n",
       "/* Common style for \"i\" and \"?\" */\n",
       "\n",
       ".sk-estimator-doc-link,\n",
       "a:link.sk-estimator-doc-link,\n",
       "a:visited.sk-estimator-doc-link {\n",
       "  float: right;\n",
       "  font-size: smaller;\n",
       "  line-height: 1em;\n",
       "  font-family: monospace;\n",
       "  background-color: var(--sklearn-color-background);\n",
       "  border-radius: 1em;\n",
       "  height: 1em;\n",
       "  width: 1em;\n",
       "  text-decoration: none !important;\n",
       "  margin-left: 0.5em;\n",
       "  text-align: center;\n",
       "  /* unfitted */\n",
       "  border: var(--sklearn-color-unfitted-level-1) 1pt solid;\n",
       "  color: var(--sklearn-color-unfitted-level-1);\n",
       "}\n",
       "\n",
       ".sk-estimator-doc-link.fitted,\n",
       "a:link.sk-estimator-doc-link.fitted,\n",
       "a:visited.sk-estimator-doc-link.fitted {\n",
       "  /* fitted */\n",
       "  border: var(--sklearn-color-fitted-level-1) 1pt solid;\n",
       "  color: var(--sklearn-color-fitted-level-1);\n",
       "}\n",
       "\n",
       "/* On hover */\n",
       "div.sk-estimator:hover .sk-estimator-doc-link:hover,\n",
       ".sk-estimator-doc-link:hover,\n",
       "div.sk-label-container:hover .sk-estimator-doc-link:hover,\n",
       ".sk-estimator-doc-link:hover {\n",
       "  /* unfitted */\n",
       "  background-color: var(--sklearn-color-unfitted-level-3);\n",
       "  color: var(--sklearn-color-background);\n",
       "  text-decoration: none;\n",
       "}\n",
       "\n",
       "div.sk-estimator.fitted:hover .sk-estimator-doc-link.fitted:hover,\n",
       ".sk-estimator-doc-link.fitted:hover,\n",
       "div.sk-label-container:hover .sk-estimator-doc-link.fitted:hover,\n",
       ".sk-estimator-doc-link.fitted:hover {\n",
       "  /* fitted */\n",
       "  background-color: var(--sklearn-color-fitted-level-3);\n",
       "  color: var(--sklearn-color-background);\n",
       "  text-decoration: none;\n",
       "}\n",
       "\n",
       "/* Span, style for the box shown on hovering the info icon */\n",
       ".sk-estimator-doc-link span {\n",
       "  display: none;\n",
       "  z-index: 9999;\n",
       "  position: relative;\n",
       "  font-weight: normal;\n",
       "  right: .2ex;\n",
       "  padding: .5ex;\n",
       "  margin: .5ex;\n",
       "  width: min-content;\n",
       "  min-width: 20ex;\n",
       "  max-width: 50ex;\n",
       "  color: var(--sklearn-color-text);\n",
       "  box-shadow: 2pt 2pt 4pt #999;\n",
       "  /* unfitted */\n",
       "  background: var(--sklearn-color-unfitted-level-0);\n",
       "  border: .5pt solid var(--sklearn-color-unfitted-level-3);\n",
       "}\n",
       "\n",
       ".sk-estimator-doc-link.fitted span {\n",
       "  /* fitted */\n",
       "  background: var(--sklearn-color-fitted-level-0);\n",
       "  border: var(--sklearn-color-fitted-level-3);\n",
       "}\n",
       "\n",
       ".sk-estimator-doc-link:hover span {\n",
       "  display: block;\n",
       "}\n",
       "\n",
       "/* \"?\"-specific style due to the `<a>` HTML tag */\n",
       "\n",
       "#sk-container-id-1 a.estimator_doc_link {\n",
       "  float: right;\n",
       "  font-size: 1rem;\n",
       "  line-height: 1em;\n",
       "  font-family: monospace;\n",
       "  background-color: var(--sklearn-color-background);\n",
       "  border-radius: 1rem;\n",
       "  height: 1rem;\n",
       "  width: 1rem;\n",
       "  text-decoration: none;\n",
       "  /* unfitted */\n",
       "  color: var(--sklearn-color-unfitted-level-1);\n",
       "  border: var(--sklearn-color-unfitted-level-1) 1pt solid;\n",
       "}\n",
       "\n",
       "#sk-container-id-1 a.estimator_doc_link.fitted {\n",
       "  /* fitted */\n",
       "  border: var(--sklearn-color-fitted-level-1) 1pt solid;\n",
       "  color: var(--sklearn-color-fitted-level-1);\n",
       "}\n",
       "\n",
       "/* On hover */\n",
       "#sk-container-id-1 a.estimator_doc_link:hover {\n",
       "  /* unfitted */\n",
       "  background-color: var(--sklearn-color-unfitted-level-3);\n",
       "  color: var(--sklearn-color-background);\n",
       "  text-decoration: none;\n",
       "}\n",
       "\n",
       "#sk-container-id-1 a.estimator_doc_link.fitted:hover {\n",
       "  /* fitted */\n",
       "  background-color: var(--sklearn-color-fitted-level-3);\n",
       "}\n",
       "</style><div id=\"sk-container-id-1\" class=\"sk-top-container\"><div class=\"sk-text-repr-fallback\"><pre>Pipeline(steps=[(&#x27;preprocessor&#x27;,\n",
       "                 ColumnTransformer(transformers=[(&#x27;num&#x27;, StandardScaler(),\n",
       "                                                  [&#x27;amt&#x27;, &#x27;lat&#x27;, &#x27;long&#x27;,\n",
       "                                                   &#x27;city_pop&#x27;, &#x27;merch_lat&#x27;,\n",
       "                                                   &#x27;merch_long&#x27;, &#x27;trans_hour&#x27;,\n",
       "                                                   &#x27;time_since_last&#x27;,\n",
       "                                                   &#x27;last_amt&#x27;, &#x27;age&#x27;]),\n",
       "                                                 (&#x27;cat&#x27;,\n",
       "                                                  OneHotEncoder(drop=&#x27;first&#x27;,\n",
       "                                                                handle_unknown=&#x27;ignore&#x27;),\n",
       "                                                  [&#x27;merchant&#x27;, &#x27;category&#x27;,\n",
       "                                                   &#x27;gender&#x27;, &#x27;state&#x27;])])),\n",
       "                (&#x27;model&#x27;,\n",
       "                 LogisticRegression(C=0.1, max_iter=5000, penalty=&#x27;l1&#x27;,\n",
       "                                    random_state=42, solver=&#x27;saga&#x27;))])</pre><b>In a Jupyter environment, please rerun this cell to show the HTML representation or trust the notebook. <br />On GitHub, the HTML representation is unable to render, please try loading this page with nbviewer.org.</b></div><div class=\"sk-container\" hidden><div class=\"sk-item sk-dashed-wrapped\"><div class=\"sk-label-container\"><div class=\"sk-label fitted sk-toggleable\"><input class=\"sk-toggleable__control sk-hidden--visually\" id=\"sk-estimator-id-1\" type=\"checkbox\" ><label for=\"sk-estimator-id-1\" class=\"sk-toggleable__label fitted sk-toggleable__label-arrow\"><div><div>Pipeline</div></div><div><a class=\"sk-estimator-doc-link fitted\" rel=\"noreferrer\" target=\"_blank\" href=\"https://scikit-learn.org/1.6/modules/generated/sklearn.pipeline.Pipeline.html\">?<span>Documentation for Pipeline</span></a><span class=\"sk-estimator-doc-link fitted\">i<span>Fitted</span></span></div></label><div class=\"sk-toggleable__content fitted\"><pre>Pipeline(steps=[(&#x27;preprocessor&#x27;,\n",
       "                 ColumnTransformer(transformers=[(&#x27;num&#x27;, StandardScaler(),\n",
       "                                                  [&#x27;amt&#x27;, &#x27;lat&#x27;, &#x27;long&#x27;,\n",
       "                                                   &#x27;city_pop&#x27;, &#x27;merch_lat&#x27;,\n",
       "                                                   &#x27;merch_long&#x27;, &#x27;trans_hour&#x27;,\n",
       "                                                   &#x27;time_since_last&#x27;,\n",
       "                                                   &#x27;last_amt&#x27;, &#x27;age&#x27;]),\n",
       "                                                 (&#x27;cat&#x27;,\n",
       "                                                  OneHotEncoder(drop=&#x27;first&#x27;,\n",
       "                                                                handle_unknown=&#x27;ignore&#x27;),\n",
       "                                                  [&#x27;merchant&#x27;, &#x27;category&#x27;,\n",
       "                                                   &#x27;gender&#x27;, &#x27;state&#x27;])])),\n",
       "                (&#x27;model&#x27;,\n",
       "                 LogisticRegression(C=0.1, max_iter=5000, penalty=&#x27;l1&#x27;,\n",
       "                                    random_state=42, solver=&#x27;saga&#x27;))])</pre></div> </div></div><div class=\"sk-serial\"><div class=\"sk-item sk-dashed-wrapped\"><div class=\"sk-label-container\"><div class=\"sk-label fitted sk-toggleable\"><input class=\"sk-toggleable__control sk-hidden--visually\" id=\"sk-estimator-id-2\" type=\"checkbox\" ><label for=\"sk-estimator-id-2\" class=\"sk-toggleable__label fitted sk-toggleable__label-arrow\"><div><div>preprocessor: ColumnTransformer</div></div><div><a class=\"sk-estimator-doc-link fitted\" rel=\"noreferrer\" target=\"_blank\" href=\"https://scikit-learn.org/1.6/modules/generated/sklearn.compose.ColumnTransformer.html\">?<span>Documentation for preprocessor: ColumnTransformer</span></a></div></label><div class=\"sk-toggleable__content fitted\"><pre>ColumnTransformer(transformers=[(&#x27;num&#x27;, StandardScaler(),\n",
       "                                 [&#x27;amt&#x27;, &#x27;lat&#x27;, &#x27;long&#x27;, &#x27;city_pop&#x27;, &#x27;merch_lat&#x27;,\n",
       "                                  &#x27;merch_long&#x27;, &#x27;trans_hour&#x27;, &#x27;time_since_last&#x27;,\n",
       "                                  &#x27;last_amt&#x27;, &#x27;age&#x27;]),\n",
       "                                (&#x27;cat&#x27;,\n",
       "                                 OneHotEncoder(drop=&#x27;first&#x27;,\n",
       "                                               handle_unknown=&#x27;ignore&#x27;),\n",
       "                                 [&#x27;merchant&#x27;, &#x27;category&#x27;, &#x27;gender&#x27;, &#x27;state&#x27;])])</pre></div> </div></div><div class=\"sk-parallel\"><div class=\"sk-parallel-item\"><div class=\"sk-item\"><div class=\"sk-label-container\"><div class=\"sk-label fitted sk-toggleable\"><input class=\"sk-toggleable__control sk-hidden--visually\" id=\"sk-estimator-id-3\" type=\"checkbox\" ><label for=\"sk-estimator-id-3\" class=\"sk-toggleable__label fitted sk-toggleable__label-arrow\"><div><div>num</div></div></label><div class=\"sk-toggleable__content fitted\"><pre>[&#x27;amt&#x27;, &#x27;lat&#x27;, &#x27;long&#x27;, &#x27;city_pop&#x27;, &#x27;merch_lat&#x27;, &#x27;merch_long&#x27;, &#x27;trans_hour&#x27;, &#x27;time_since_last&#x27;, &#x27;last_amt&#x27;, &#x27;age&#x27;]</pre></div> </div></div><div class=\"sk-serial\"><div class=\"sk-item\"><div class=\"sk-estimator fitted sk-toggleable\"><input class=\"sk-toggleable__control sk-hidden--visually\" id=\"sk-estimator-id-4\" type=\"checkbox\" ><label for=\"sk-estimator-id-4\" class=\"sk-toggleable__label fitted sk-toggleable__label-arrow\"><div><div>StandardScaler</div></div><div><a class=\"sk-estimator-doc-link fitted\" rel=\"noreferrer\" target=\"_blank\" href=\"https://scikit-learn.org/1.6/modules/generated/sklearn.preprocessing.StandardScaler.html\">?<span>Documentation for StandardScaler</span></a></div></label><div class=\"sk-toggleable__content fitted\"><pre>StandardScaler()</pre></div> </div></div></div></div></div><div class=\"sk-parallel-item\"><div class=\"sk-item\"><div class=\"sk-label-container\"><div class=\"sk-label fitted sk-toggleable\"><input class=\"sk-toggleable__control sk-hidden--visually\" id=\"sk-estimator-id-5\" type=\"checkbox\" ><label for=\"sk-estimator-id-5\" class=\"sk-toggleable__label fitted sk-toggleable__label-arrow\"><div><div>cat</div></div></label><div class=\"sk-toggleable__content fitted\"><pre>[&#x27;merchant&#x27;, &#x27;category&#x27;, &#x27;gender&#x27;, &#x27;state&#x27;]</pre></div> </div></div><div class=\"sk-serial\"><div class=\"sk-item\"><div class=\"sk-estimator fitted sk-toggleable\"><input class=\"sk-toggleable__control sk-hidden--visually\" id=\"sk-estimator-id-6\" type=\"checkbox\" ><label for=\"sk-estimator-id-6\" class=\"sk-toggleable__label fitted sk-toggleable__label-arrow\"><div><div>OneHotEncoder</div></div><div><a class=\"sk-estimator-doc-link fitted\" rel=\"noreferrer\" target=\"_blank\" href=\"https://scikit-learn.org/1.6/modules/generated/sklearn.preprocessing.OneHotEncoder.html\">?<span>Documentation for OneHotEncoder</span></a></div></label><div class=\"sk-toggleable__content fitted\"><pre>OneHotEncoder(drop=&#x27;first&#x27;, handle_unknown=&#x27;ignore&#x27;)</pre></div> </div></div></div></div></div></div></div><div class=\"sk-item\"><div class=\"sk-estimator fitted sk-toggleable\"><input class=\"sk-toggleable__control sk-hidden--visually\" id=\"sk-estimator-id-7\" type=\"checkbox\" ><label for=\"sk-estimator-id-7\" class=\"sk-toggleable__label fitted sk-toggleable__label-arrow\"><div><div>LogisticRegression</div></div><div><a class=\"sk-estimator-doc-link fitted\" rel=\"noreferrer\" target=\"_blank\" href=\"https://scikit-learn.org/1.6/modules/generated/sklearn.linear_model.LogisticRegression.html\">?<span>Documentation for LogisticRegression</span></a></div></label><div class=\"sk-toggleable__content fitted\"><pre>LogisticRegression(C=0.1, max_iter=5000, penalty=&#x27;l1&#x27;, random_state=42,\n",
       "                   solver=&#x27;saga&#x27;)</pre></div> </div></div></div></div></div></div>"
      ],
      "text/plain": [
       "Pipeline(steps=[('preprocessor',\n",
       "                 ColumnTransformer(transformers=[('num', StandardScaler(),\n",
       "                                                  ['amt', 'lat', 'long',\n",
       "                                                   'city_pop', 'merch_lat',\n",
       "                                                   'merch_long', 'trans_hour',\n",
       "                                                   'time_since_last',\n",
       "                                                   'last_amt', 'age']),\n",
       "                                                 ('cat',\n",
       "                                                  OneHotEncoder(drop='first',\n",
       "                                                                handle_unknown='ignore'),\n",
       "                                                  ['merchant', 'category',\n",
       "                                                   'gender', 'state'])])),\n",
       "                ('model',\n",
       "                 LogisticRegression(C=0.1, max_iter=5000, penalty='l1',\n",
       "                                    random_state=42, solver='saga'))])"
      ]
     },
     "execution_count": 30,
     "metadata": {},
     "output_type": "execute_result"
    }
   ],
   "source": [
    "lasso_model = LogisticRegression(\n",
    "    penalty='l1',\n",
    "    solver='saga',\n",
    "    C=0.1,               # smaller C = stronger regularization\n",
    "    max_iter=5000,\n",
    "    random_state=42\n",
    ")\n",
    "\n",
    "# Full pipeline (preprocessing + model)\n",
    "lasso_pipe = Pipeline(steps=[\n",
    "    ('preprocessor', preprocessor),\n",
    "    ('model', lasso_model)\n",
    "])\n",
    "\n",
    "# Fit\n",
    "lasso_pipe.fit(X_train, y_train)"
   ]
  },
  {
   "cell_type": "code",
   "execution_count": 31,
   "id": "905ba390-cf09-440e-bbac-af26fcd73e1c",
   "metadata": {},
   "outputs": [
    {
     "name": "stdout",
     "output_type": "stream",
     "text": [
      "Confusion Matrix:\n",
      "[[368877    251]\n",
      " [  1221    128]]\n",
      "\n",
      "Precision: 0.3377\n",
      "Recall:    0.0949\n",
      "\n",
      "Classification Report:\n",
      "              precision    recall  f1-score   support\n",
      "\n",
      "           0     0.9967    0.9993    0.9980    369128\n",
      "           1     0.3377    0.0949    0.1481      1349\n",
      "\n",
      "    accuracy                         0.9960    370477\n",
      "   macro avg     0.6672    0.5471    0.5731    370477\n",
      "weighted avg     0.9943    0.9960    0.9949    370477\n",
      "\n"
     ]
    }
   ],
   "source": [
    "y_pred = lasso_pipe.predict(X_test)\n",
    "\n",
    "# Evaluation\n",
    "cm = confusion_matrix(y_test, y_pred)\n",
    "print(\"Confusion Matrix:\")\n",
    "print(cm)\n",
    "\n",
    "precision = precision_score(y_test, y_pred)\n",
    "recall = recall_score(y_test, y_pred)\n",
    "\n",
    "print(f\"\\nPrecision: {precision:.4f}\")\n",
    "print(f\"Recall:    {recall:.4f}\")\n",
    "\n",
    "print(\"\\nClassification Report:\")\n",
    "print(classification_report(y_test, y_pred, digits=4))"
   ]
  },
  {
   "cell_type": "code",
   "execution_count": 32,
   "id": "d94de49e-b5ed-4dd7-97ae-571bbac301c7",
   "metadata": {},
   "outputs": [
    {
     "name": "stdout",
     "output_type": "stream",
     "text": [
      "128 features selected out of 765\n"
     ]
    },
    {
     "data": {
      "text/html": [
       "<div>\n",
       "<style scoped>\n",
       "    .dataframe tbody tr th:only-of-type {\n",
       "        vertical-align: middle;\n",
       "    }\n",
       "\n",
       "    .dataframe tbody tr th {\n",
       "        vertical-align: top;\n",
       "    }\n",
       "\n",
       "    .dataframe thead th {\n",
       "        text-align: right;\n",
       "    }\n",
       "</style>\n",
       "<table border=\"1\" class=\"dataframe\">\n",
       "  <thead>\n",
       "    <tr style=\"text-align: right;\">\n",
       "      <th></th>\n",
       "      <th>feature</th>\n",
       "      <th>coef</th>\n",
       "    </tr>\n",
       "  </thead>\n",
       "  <tbody>\n",
       "    <tr>\n",
       "      <th>714</th>\n",
       "      <td>category_travel</td>\n",
       "      <td>-6.471690</td>\n",
       "    </tr>\n",
       "    <tr>\n",
       "      <th>707</th>\n",
       "      <td>category_home</td>\n",
       "      <td>-3.236038</td>\n",
       "    </tr>\n",
       "    <tr>\n",
       "      <th>706</th>\n",
       "      <td>category_health_fitness</td>\n",
       "      <td>-3.156845</td>\n",
       "    </tr>\n",
       "    <tr>\n",
       "      <th>732</th>\n",
       "      <td>state_LA</td>\n",
       "      <td>-3.079485</td>\n",
       "    </tr>\n",
       "    <tr>\n",
       "      <th>702</th>\n",
       "      <td>category_food_dining</td>\n",
       "      <td>-2.981982</td>\n",
       "    </tr>\n",
       "    <tr>\n",
       "      <th>716</th>\n",
       "      <td>state_AL</td>\n",
       "      <td>-2.917631</td>\n",
       "    </tr>\n",
       "    <tr>\n",
       "      <th>708</th>\n",
       "      <td>category_kids_pets</td>\n",
       "      <td>-2.897436</td>\n",
       "    </tr>\n",
       "    <tr>\n",
       "      <th>724</th>\n",
       "      <td>state_GA</td>\n",
       "      <td>-2.884762</td>\n",
       "    </tr>\n",
       "    <tr>\n",
       "      <th>723</th>\n",
       "      <td>state_FL</td>\n",
       "      <td>-2.873259</td>\n",
       "    </tr>\n",
       "    <tr>\n",
       "      <th>741</th>\n",
       "      <td>state_NC</td>\n",
       "      <td>-2.872817</td>\n",
       "    </tr>\n",
       "    <tr>\n",
       "      <th>763</th>\n",
       "      <td>state_WV</td>\n",
       "      <td>-2.857155</td>\n",
       "    </tr>\n",
       "    <tr>\n",
       "      <th>721</th>\n",
       "      <td>state_CT</td>\n",
       "      <td>-2.839112</td>\n",
       "    </tr>\n",
       "    <tr>\n",
       "      <th>745</th>\n",
       "      <td>state_NJ</td>\n",
       "      <td>-2.815108</td>\n",
       "    </tr>\n",
       "    <tr>\n",
       "      <th>757</th>\n",
       "      <td>state_TX</td>\n",
       "      <td>-2.806773</td>\n",
       "    </tr>\n",
       "    <tr>\n",
       "      <th>734</th>\n",
       "      <td>state_MD</td>\n",
       "      <td>-2.797645</td>\n",
       "    </tr>\n",
       "  </tbody>\n",
       "</table>\n",
       "</div>"
      ],
      "text/plain": [
       "                     feature      coef\n",
       "714          category_travel -6.471690\n",
       "707            category_home -3.236038\n",
       "706  category_health_fitness -3.156845\n",
       "732                 state_LA -3.079485\n",
       "702     category_food_dining -2.981982\n",
       "716                 state_AL -2.917631\n",
       "708       category_kids_pets -2.897436\n",
       "724                 state_GA -2.884762\n",
       "723                 state_FL -2.873259\n",
       "741                 state_NC -2.872817\n",
       "763                 state_WV -2.857155\n",
       "721                 state_CT -2.839112\n",
       "745                 state_NJ -2.815108\n",
       "757                 state_TX -2.806773\n",
       "734                 state_MD -2.797645"
      ]
     },
     "metadata": {},
     "output_type": "display_data"
    }
   ],
   "source": [
    "# Get model feature names\n",
    "ohe = lasso_pipe.named_steps['preprocessor'].named_transformers_['cat']\n",
    "encoded_cat_cols = ohe.get_feature_names_out(cat_cols)\n",
    "all_features = np.concatenate([num_cols, encoded_cat_cols])\n",
    "\n",
    "# Get coefficients\n",
    "coefs = lasso_pipe.named_steps['model'].coef_.flatten()\n",
    "\n",
    "coef_df = pd.DataFrame({\n",
    "    'feature': all_features,\n",
    "    'coef': coefs\n",
    "}).sort_values(by='coef', key=np.abs, ascending=False)\n",
    "\n",
    "# Display non-zero coefficients (selected features)\n",
    "selected = coef_df[coef_df['coef'] != 0]\n",
    "print(f\"{len(selected)} features selected out of {len(coef_df)}\")\n",
    "display(selected.head(15))\n"
   ]
  },
  {
   "cell_type": "code",
   "execution_count": 39,
   "id": "269483c0-6c2f-4e20-865c-2817b402c275",
   "metadata": {},
   "outputs": [],
   "source": [
    "selected.to_csv(\"lasso_selected_features.csv\", index=False)"
   ]
  },
  {
   "cell_type": "markdown",
   "id": "a256307b-1cf2-4196-a3ca-257f5dac540a",
   "metadata": {},
   "source": [
    "# Polynomial Regression\n",
    "- As the data may not fit a linear model we will try a polynomial regression\n",
    "- This will be done on our smaller feature set to improve upon training time and avoid overfitting"
   ]
  },
  {
   "cell_type": "code",
   "execution_count": 33,
   "id": "1eee3aaf-5906-43a9-a4d1-497643c17a83",
   "metadata": {},
   "outputs": [],
   "source": [
    "from sklearn.preprocessing import PolynomialFeatures\n",
    "\n",
    "num_transformer = Pipeline(steps=[\n",
    "    ('poly', PolynomialFeatures(degree=2, include_bias=False, interaction_only=False)),\n",
    "    ('scaler', StandardScaler())\n",
    "])\n",
    "\n",
    "cat_transformer = Pipeline(steps=[\n",
    "  ('encoder', OneHotEncoder(drop='first'))  \n",
    "])\n",
    "\n",
    "cat_features = ['category']\n",
    "num_features = ['amt', 'trans_hour', 'time_since_last', 'last_amt']\n",
    "\n",
    "preprocessor = ColumnTransformer(transformers=[\n",
    "    ('num', num_transformer, num_features),\n",
    "    ('cat', cat_transformer, cat_features)\n",
    "])\n",
    "\n",
    "log_reg = LogisticRegression(\n",
    "    class_weight=\"balanced\",\n",
    "    max_iter=1000,\n",
    "    solver=\"lbfgs\"\n",
    ")\n",
    "\n",
    "pipeline = Pipeline([\n",
    "    ('preprocess', preprocessor),\n",
    "    ('logreg', log_reg)\n",
    "])\n"
   ]
  },
  {
   "cell_type": "code",
   "execution_count": 34,
   "id": "ee44f062-a42d-44f5-b11b-d708aec9177e",
   "metadata": {},
   "outputs": [],
   "source": [
    "# Split data again:\n",
    "# sort data to avoid leakage\n",
    "modeling_df2 = modeling_df2.sort_values('trans_date_trans_time').reset_index(drop=True)\n",
    "\n",
    "# 2) Time-based split (e.g., last 20% as test)\n",
    "split_idx = int(len(modeling_df2) * 0.80)\n",
    "train_df = modeling_df2.iloc[:split_idx]\n",
    "test_df  = modeling_df2.iloc[split_idx:]\n",
    "\n",
    "drop_cols = ['is_fraud', 'trans_date_trans_time', 'trans_date', 'cc_num']\n",
    "features = [col for col in modeling_df2.columns if col not in drop_cols]\n",
    "\n",
    "y_train = train_df['is_fraud']\n",
    "X_train = train_df[features]\n",
    "\n",
    "y_test = test_df['is_fraud']\n",
    "X_test = test_df[features]"
   ]
  },
  {
   "cell_type": "markdown",
   "id": "43c0ba1a-6727-4b2f-8fab-e9d5a7149ad9",
   "metadata": {},
   "source": [
    "Fit and evaluate the model"
   ]
  },
  {
   "cell_type": "code",
   "execution_count": 35,
   "id": "db799279-1378-42b4-a1ec-d3a479822df7",
   "metadata": {},
   "outputs": [],
   "source": [
    "pipeline.fit(X_train, y_train)\n",
    "y_pred = pipeline.predict(X_test)"
   ]
  },
  {
   "cell_type": "code",
   "execution_count": 36,
   "id": "2ee0e5f3-414d-468a-9268-e3bab456f5fa",
   "metadata": {},
   "outputs": [
    {
     "name": "stdout",
     "output_type": "stream",
     "text": [
      "Confusion Matrix:\n",
      "[[342256  26872]\n",
      " [   148   1201]]\n",
      "\n",
      "Precision: 0.0428\n",
      "Recall:    0.8903\n",
      "\n",
      "Classification Report:\n",
      "              precision    recall  f1-score   support\n",
      "\n",
      "           0     0.9996    0.9272    0.9620    369128\n",
      "           1     0.0428    0.8903    0.0816      1349\n",
      "\n",
      "    accuracy                         0.9271    370477\n",
      "   macro avg     0.5212    0.9087    0.5218    370477\n",
      "weighted avg     0.9961    0.9271    0.9588    370477\n",
      "\n"
     ]
    }
   ],
   "source": [
    "cm = confusion_matrix(y_test, y_pred)\n",
    "print(\"Confusion Matrix:\")\n",
    "print(cm)\n",
    "\n",
    "# Precision and Recall\n",
    "precision = precision_score(y_test, y_pred)\n",
    "recall = recall_score(y_test, y_pred)\n",
    "\n",
    "print(f\"\\nPrecision: {precision:.4f}\")\n",
    "print(f\"Recall:    {recall:.4f}\")\n",
    "\n",
    "# Full classification report (includes F1 and support)\n",
    "print(\"\\nClassification Report:\")\n",
    "print(classification_report(y_test, y_pred, digits=4))"
   ]
  }
 ],
 "metadata": {
  "kernelspec": {
   "display_name": "Python [conda env:base] *",
   "language": "python",
   "name": "conda-base-py"
  },
  "language_info": {
   "codemirror_mode": {
    "name": "ipython",
    "version": 3
   },
   "file_extension": ".py",
   "mimetype": "text/x-python",
   "name": "python",
   "nbconvert_exporter": "python",
   "pygments_lexer": "ipython3",
   "version": "3.13.5"
  }
 },
 "nbformat": 4,
 "nbformat_minor": 5
}
